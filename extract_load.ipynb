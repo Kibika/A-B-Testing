{
  "nbformat": 4,
  "nbformat_minor": 0,
  "metadata": {
    "colab": {
      "name": "extract_load.ipynb",
      "provenance": [],
      "collapsed_sections": [],
      "authorship_tag": "ABX9TyOg+QB2t+lyXrdNbn5Z75tl",
      "include_colab_link": true
    },
    "kernelspec": {
      "display_name": "Python 3",
      "name": "python3"
    },
    "language_info": {
      "name": "python"
    }
  },
  "cells": [
    {
      "cell_type": "markdown",
      "metadata": {
        "id": "view-in-github",
        "colab_type": "text"
      },
      "source": [
        "<a href=\"https://colab.research.google.com/github/Kibika/A-B-Testing/blob/main/extract_load.ipynb\" target=\"_parent\"><img src=\"https://colab.research.google.com/assets/colab-badge.svg\" alt=\"Open In Colab\"/></a>"
      ]
    },
    {
      "cell_type": "markdown",
      "metadata": {
        "id": "e8X3m8zC5qmB"
      },
      "source": [
        "## ELT Pipeline\n",
        "This project aims to make use of the dbt tool to build an ELT pipeline. The data used is a large dataset with upto 10 million rows found in https://anson.ucdavis.edu/~clarkf/ .\n",
        "\n",
        "This notebook does the extraction of the data from the website into mysql database. We use pysaprk to write the data into a dataframe and write to mysql.\n"
      ]
    },
    {
      "cell_type": "code",
      "metadata": {
        "colab": {
          "base_uri": "https://localhost:8080/"
        },
        "id": "SXi9Ov-QqZBp",
        "outputId": "df2ac857-8b71-4237-ace8-96c66424cc0a"
      },
      "source": [
        "!apt-get install openjdk-8-jdk"
      ],
      "execution_count": null,
      "outputs": [
        {
          "name": "stdout",
          "output_type": "stream",
          "text": [
            "Reading package lists... Done\n",
            "Building dependency tree       \n",
            "Reading state information... Done\n",
            "The following additional packages will be installed:\n",
            "  fonts-dejavu-core fonts-dejavu-extra libatk-wrapper-java\n",
            "  libatk-wrapper-java-jni libgail-common libgail18 libgtk2.0-0 libgtk2.0-bin\n",
            "  libgtk2.0-common libxxf86dga1 openjdk-8-jdk-headless openjdk-8-jre\n",
            "  openjdk-8-jre-headless x11-utils\n",
            "Suggested packages:\n",
            "  gvfs openjdk-8-demo openjdk-8-source visualvm icedtea-8-plugin libnss-mdns\n",
            "  fonts-ipafont-gothic fonts-ipafont-mincho fonts-wqy-microhei\n",
            "  fonts-wqy-zenhei fonts-indic mesa-utils\n",
            "The following NEW packages will be installed:\n",
            "  fonts-dejavu-core fonts-dejavu-extra libatk-wrapper-java\n",
            "  libatk-wrapper-java-jni libgail-common libgail18 libgtk2.0-0 libgtk2.0-bin\n",
            "  libgtk2.0-common libxxf86dga1 openjdk-8-jdk openjdk-8-jdk-headless\n",
            "  openjdk-8-jre openjdk-8-jre-headless x11-utils\n",
            "0 upgraded, 15 newly installed, 0 to remove and 37 not upgraded.\n",
            "Need to get 43.5 MB of archives.\n",
            "After this operation, 163 MB of additional disk space will be used.\n",
            "Get:1 http://archive.ubuntu.com/ubuntu bionic/main amd64 libxxf86dga1 amd64 2:1.1.4-1 [13.7 kB]\n",
            "Get:2 http://archive.ubuntu.com/ubuntu bionic/main amd64 fonts-dejavu-core all 2.37-1 [1,041 kB]\n",
            "Get:3 http://archive.ubuntu.com/ubuntu bionic/main amd64 fonts-dejavu-extra all 2.37-1 [1,953 kB]\n",
            "Get:4 http://archive.ubuntu.com/ubuntu bionic/main amd64 x11-utils amd64 7.7+3build1 [196 kB]\n",
            "Get:5 http://archive.ubuntu.com/ubuntu bionic/main amd64 libatk-wrapper-java all 0.33.3-20ubuntu0.1 [34.7 kB]\n",
            "Get:6 http://archive.ubuntu.com/ubuntu bionic/main amd64 libatk-wrapper-java-jni amd64 0.33.3-20ubuntu0.1 [28.3 kB]\n",
            "Get:7 http://archive.ubuntu.com/ubuntu bionic/main amd64 libgtk2.0-common all 2.24.32-1ubuntu1 [125 kB]\n",
            "Get:8 http://archive.ubuntu.com/ubuntu bionic/main amd64 libgtk2.0-0 amd64 2.24.32-1ubuntu1 [1,769 kB]\n",
            "Get:9 http://archive.ubuntu.com/ubuntu bionic/main amd64 libgail18 amd64 2.24.32-1ubuntu1 [14.2 kB]\n",
            "Get:10 http://archive.ubuntu.com/ubuntu bionic/main amd64 libgail-common amd64 2.24.32-1ubuntu1 [112 kB]\n",
            "Get:11 http://archive.ubuntu.com/ubuntu bionic/main amd64 libgtk2.0-bin amd64 2.24.32-1ubuntu1 [7,536 B]\n",
            "Get:12 http://archive.ubuntu.com/ubuntu bionic-updates/universe amd64 openjdk-8-jre-headless amd64 8u292-b10-0ubuntu1~18.04 [28.2 MB]\n",
            "Get:13 http://archive.ubuntu.com/ubuntu bionic-updates/universe amd64 openjdk-8-jre amd64 8u292-b10-0ubuntu1~18.04 [69.6 kB]\n",
            "Get:14 http://archive.ubuntu.com/ubuntu bionic-updates/universe amd64 openjdk-8-jdk-headless amd64 8u292-b10-0ubuntu1~18.04 [8,284 kB]\n",
            "Get:15 http://archive.ubuntu.com/ubuntu bionic-updates/universe amd64 openjdk-8-jdk amd64 8u292-b10-0ubuntu1~18.04 [1,644 kB]\n",
            "Fetched 43.5 MB in 3s (13.2 MB/s)\n",
            "Selecting previously unselected package libxxf86dga1:amd64.\n",
            "(Reading database ... 155013 files and directories currently installed.)\n",
            "Preparing to unpack .../00-libxxf86dga1_2%3a1.1.4-1_amd64.deb ...\n",
            "Unpacking libxxf86dga1:amd64 (2:1.1.4-1) ...\n",
            "Selecting previously unselected package fonts-dejavu-core.\n",
            "Preparing to unpack .../01-fonts-dejavu-core_2.37-1_all.deb ...\n",
            "Unpacking fonts-dejavu-core (2.37-1) ...\n",
            "Selecting previously unselected package fonts-dejavu-extra.\n",
            "Preparing to unpack .../02-fonts-dejavu-extra_2.37-1_all.deb ...\n",
            "Unpacking fonts-dejavu-extra (2.37-1) ...\n",
            "Selecting previously unselected package x11-utils.\n",
            "Preparing to unpack .../03-x11-utils_7.7+3build1_amd64.deb ...\n",
            "Unpacking x11-utils (7.7+3build1) ...\n",
            "Selecting previously unselected package libatk-wrapper-java.\n",
            "Preparing to unpack .../04-libatk-wrapper-java_0.33.3-20ubuntu0.1_all.deb ...\n",
            "Unpacking libatk-wrapper-java (0.33.3-20ubuntu0.1) ...\n",
            "Selecting previously unselected package libatk-wrapper-java-jni:amd64.\n",
            "Preparing to unpack .../05-libatk-wrapper-java-jni_0.33.3-20ubuntu0.1_amd64.deb ...\n",
            "Unpacking libatk-wrapper-java-jni:amd64 (0.33.3-20ubuntu0.1) ...\n",
            "Selecting previously unselected package libgtk2.0-common.\n",
            "Preparing to unpack .../06-libgtk2.0-common_2.24.32-1ubuntu1_all.deb ...\n",
            "Unpacking libgtk2.0-common (2.24.32-1ubuntu1) ...\n",
            "Selecting previously unselected package libgtk2.0-0:amd64.\n",
            "Preparing to unpack .../07-libgtk2.0-0_2.24.32-1ubuntu1_amd64.deb ...\n",
            "Unpacking libgtk2.0-0:amd64 (2.24.32-1ubuntu1) ...\n",
            "Selecting previously unselected package libgail18:amd64.\n",
            "Preparing to unpack .../08-libgail18_2.24.32-1ubuntu1_amd64.deb ...\n",
            "Unpacking libgail18:amd64 (2.24.32-1ubuntu1) ...\n",
            "Selecting previously unselected package libgail-common:amd64.\n",
            "Preparing to unpack .../09-libgail-common_2.24.32-1ubuntu1_amd64.deb ...\n",
            "Unpacking libgail-common:amd64 (2.24.32-1ubuntu1) ...\n",
            "Selecting previously unselected package libgtk2.0-bin.\n",
            "Preparing to unpack .../10-libgtk2.0-bin_2.24.32-1ubuntu1_amd64.deb ...\n",
            "Unpacking libgtk2.0-bin (2.24.32-1ubuntu1) ...\n",
            "Selecting previously unselected package openjdk-8-jre-headless:amd64.\n",
            "Preparing to unpack .../11-openjdk-8-jre-headless_8u292-b10-0ubuntu1~18.04_amd64.deb ...\n",
            "Unpacking openjdk-8-jre-headless:amd64 (8u292-b10-0ubuntu1~18.04) ...\n",
            "Selecting previously unselected package openjdk-8-jre:amd64.\n",
            "Preparing to unpack .../12-openjdk-8-jre_8u292-b10-0ubuntu1~18.04_amd64.deb ...\n",
            "Unpacking openjdk-8-jre:amd64 (8u292-b10-0ubuntu1~18.04) ...\n",
            "Selecting previously unselected package openjdk-8-jdk-headless:amd64.\n",
            "Preparing to unpack .../13-openjdk-8-jdk-headless_8u292-b10-0ubuntu1~18.04_amd64.deb ...\n",
            "Unpacking openjdk-8-jdk-headless:amd64 (8u292-b10-0ubuntu1~18.04) ...\n",
            "Selecting previously unselected package openjdk-8-jdk:amd64.\n",
            "Preparing to unpack .../14-openjdk-8-jdk_8u292-b10-0ubuntu1~18.04_amd64.deb ...\n",
            "Unpacking openjdk-8-jdk:amd64 (8u292-b10-0ubuntu1~18.04) ...\n",
            "Setting up libgtk2.0-common (2.24.32-1ubuntu1) ...\n",
            "Setting up fonts-dejavu-core (2.37-1) ...\n",
            "Setting up libxxf86dga1:amd64 (2:1.1.4-1) ...\n",
            "Setting up fonts-dejavu-extra (2.37-1) ...\n",
            "Setting up openjdk-8-jre-headless:amd64 (8u292-b10-0ubuntu1~18.04) ...\n",
            "update-alternatives: using /usr/lib/jvm/java-8-openjdk-amd64/jre/bin/orbd to provide /usr/bin/orbd (orbd) in auto mode\n",
            "update-alternatives: using /usr/lib/jvm/java-8-openjdk-amd64/jre/bin/servertool to provide /usr/bin/servertool (servertool) in auto mode\n",
            "update-alternatives: using /usr/lib/jvm/java-8-openjdk-amd64/jre/bin/tnameserv to provide /usr/bin/tnameserv (tnameserv) in auto mode\n",
            "Setting up libgtk2.0-0:amd64 (2.24.32-1ubuntu1) ...\n",
            "Setting up libgail18:amd64 (2.24.32-1ubuntu1) ...\n",
            "Setting up openjdk-8-jdk-headless:amd64 (8u292-b10-0ubuntu1~18.04) ...\n",
            "update-alternatives: using /usr/lib/jvm/java-8-openjdk-amd64/bin/idlj to provide /usr/bin/idlj (idlj) in auto mode\n",
            "update-alternatives: using /usr/lib/jvm/java-8-openjdk-amd64/bin/wsimport to provide /usr/bin/wsimport (wsimport) in auto mode\n",
            "update-alternatives: using /usr/lib/jvm/java-8-openjdk-amd64/bin/jsadebugd to provide /usr/bin/jsadebugd (jsadebugd) in auto mode\n",
            "update-alternatives: using /usr/lib/jvm/java-8-openjdk-amd64/bin/native2ascii to provide /usr/bin/native2ascii (native2ascii) in auto mode\n",
            "update-alternatives: using /usr/lib/jvm/java-8-openjdk-amd64/bin/javah to provide /usr/bin/javah (javah) in auto mode\n",
            "update-alternatives: using /usr/lib/jvm/java-8-openjdk-amd64/bin/hsdb to provide /usr/bin/hsdb (hsdb) in auto mode\n",
            "update-alternatives: using /usr/lib/jvm/java-8-openjdk-amd64/bin/clhsdb to provide /usr/bin/clhsdb (clhsdb) in auto mode\n",
            "update-alternatives: using /usr/lib/jvm/java-8-openjdk-amd64/bin/extcheck to provide /usr/bin/extcheck (extcheck) in auto mode\n",
            "update-alternatives: using /usr/lib/jvm/java-8-openjdk-amd64/bin/schemagen to provide /usr/bin/schemagen (schemagen) in auto mode\n",
            "update-alternatives: using /usr/lib/jvm/java-8-openjdk-amd64/bin/xjc to provide /usr/bin/xjc (xjc) in auto mode\n",
            "update-alternatives: using /usr/lib/jvm/java-8-openjdk-amd64/bin/jhat to provide /usr/bin/jhat (jhat) in auto mode\n",
            "update-alternatives: using /usr/lib/jvm/java-8-openjdk-amd64/bin/wsgen to provide /usr/bin/wsgen (wsgen) in auto mode\n",
            "Setting up x11-utils (7.7+3build1) ...\n",
            "Setting up libgail-common:amd64 (2.24.32-1ubuntu1) ...\n",
            "Setting up libatk-wrapper-java (0.33.3-20ubuntu0.1) ...\n",
            "Setting up libgtk2.0-bin (2.24.32-1ubuntu1) ...\n",
            "Setting up libatk-wrapper-java-jni:amd64 (0.33.3-20ubuntu0.1) ...\n",
            "Setting up openjdk-8-jre:amd64 (8u292-b10-0ubuntu1~18.04) ...\n",
            "update-alternatives: using /usr/lib/jvm/java-8-openjdk-amd64/jre/bin/policytool to provide /usr/bin/policytool (policytool) in auto mode\n",
            "Setting up openjdk-8-jdk:amd64 (8u292-b10-0ubuntu1~18.04) ...\n",
            "update-alternatives: using /usr/lib/jvm/java-8-openjdk-amd64/bin/appletviewer to provide /usr/bin/appletviewer (appletviewer) in auto mode\n",
            "update-alternatives: using /usr/lib/jvm/java-8-openjdk-amd64/bin/jconsole to provide /usr/bin/jconsole (jconsole) in auto mode\n",
            "Processing triggers for man-db (2.8.3-2ubuntu0.1) ...\n",
            "Processing triggers for hicolor-icon-theme (0.17-2) ...\n",
            "Processing triggers for fontconfig (2.12.6-0ubuntu2) ...\n",
            "Processing triggers for mime-support (3.60ubuntu1) ...\n",
            "Processing triggers for libc-bin (2.27-3ubuntu1.3) ...\n",
            "/sbin/ldconfig.real: /usr/local/lib/python3.7/dist-packages/ideep4py/lib/libmkldnn.so.0 is not a symbolic link\n",
            "\n"
          ]
        }
      ]
    },
    {
      "cell_type": "code",
      "metadata": {
        "id": "TuyI22BuqZEb"
      },
      "source": [
        "!wget -q https://downloads.apache.org/spark/spark-3.1.2/spark-3.1.2-bin-hadoop2.7.tgz"
      ],
      "execution_count": null,
      "outputs": []
    },
    {
      "cell_type": "code",
      "metadata": {
        "id": "ViBuE7XEqZTz"
      },
      "source": [
        "!tar xf spark-3.1.2-bin-hadoop2.7.tgz "
      ],
      "execution_count": null,
      "outputs": []
    },
    {
      "cell_type": "code",
      "metadata": {
        "id": "b7nLTIObvVUG"
      },
      "source": [
        "!pip install -q findspark"
      ],
      "execution_count": null,
      "outputs": []
    },
    {
      "cell_type": "code",
      "metadata": {
        "colab": {
          "base_uri": "https://localhost:8080/"
        },
        "id": "DQUyoL7owIop",
        "outputId": "36564646-ef67-443e-db0c-f9dca52da9a4"
      },
      "source": [
        "!pip install -U pyarrow"
      ],
      "execution_count": null,
      "outputs": [
        {
          "name": "stdout",
          "output_type": "stream",
          "text": [
            "Requirement already satisfied: pyarrow in /usr/local/lib/python3.7/dist-packages (3.0.0)\n",
            "Collecting pyarrow\n",
            "  Downloading pyarrow-5.0.0-cp37-cp37m-manylinux2014_x86_64.whl (23.6 MB)\n",
            "\u001b[K     |████████████████████████████████| 23.6 MB 127 kB/s \n",
            "\u001b[?25hRequirement already satisfied: numpy>=1.16.6 in /usr/local/lib/python3.7/dist-packages (from pyarrow) (1.19.5)\n",
            "Installing collected packages: pyarrow\n",
            "  Attempting uninstall: pyarrow\n",
            "    Found existing installation: pyarrow 3.0.0\n",
            "    Uninstalling pyarrow-3.0.0:\n",
            "      Successfully uninstalled pyarrow-3.0.0\n",
            "Successfully installed pyarrow-5.0.0\n"
          ]
        }
      ]
    },
    {
      "cell_type": "code",
      "metadata": {
        "colab": {
          "base_uri": "https://localhost:8080/"
        },
        "id": "zVMQRoZbwhzU",
        "outputId": "b6b09b71-daad-4989-a918-a29fbbb0b2ee"
      },
      "source": [
        "ls /usr/lib/jvm/"
      ],
      "execution_count": null,
      "outputs": [
        {
          "name": "stdout",
          "output_type": "stream",
          "text": [
            "\u001b[0m\u001b[01;36mdefault-java\u001b[0m@               \u001b[01;34mjava-11-openjdk-amd64\u001b[0m/     \u001b[01;34mjava-8-openjdk-amd64\u001b[0m/\n",
            "\u001b[01;36mjava-1.11.0-openjdk-amd64\u001b[0m@  \u001b[01;36mjava-1.8.0-openjdk-amd64\u001b[0m@\n"
          ]
        }
      ]
    },
    {
      "cell_type": "code",
      "metadata": {
        "id": "_sZA2UvLwTbF"
      },
      "source": [
        "import os\n",
        "os.environ[\"JAVA_HOME\"] = \"/usr/lib/jvm/java-8-openjdk-amd64\"\n",
        "os.environ[\"SPARK_HOME\"] = \"/content/spark-3.1.2-bin-hadoop2.7\""
      ],
      "execution_count": null,
      "outputs": []
    },
    {
      "cell_type": "code",
      "metadata": {
        "id": "t09WSjhnygz_"
      },
      "source": [
        "import findspark\n",
        "findspark.add_packages('mysql:mysql-connector-java:8.0.11')\n",
        "findspark.init()"
      ],
      "execution_count": null,
      "outputs": []
    },
    {
      "cell_type": "code",
      "metadata": {
        "id": "YEnMGITpyg1v"
      },
      "source": [
        "from pyspark.sql import SparkSession\n",
        "from pyspark import SparkContext\n",
        "from pyspark.sql import SQLContext\n",
        "from pyspark.sql.types import *\n",
        "# spark = SparkSession.builder.getOrCreate()\n",
        "sc = SparkContext('local')\n",
        "sqlContext = SQLContext(sc)"
      ],
      "execution_count": null,
      "outputs": []
    },
    {
      "cell_type": "code",
      "metadata": {
        "id": "KaD4eeSBVqgI"
      },
      "source": [
        "# sc.stop()"
      ],
      "execution_count": null,
      "outputs": []
    },
    {
      "cell_type": "code",
      "metadata": {
        "colab": {
          "base_uri": "https://localhost:8080/"
        },
        "id": "I-G7jq-fuwRA",
        "outputId": "eb5a3c73-69b5-4506-d94b-832a80bb1ecc"
      },
      "source": [
        "from google.colab import drive\n",
        "drive.mount('/content/drive')"
      ],
      "execution_count": null,
      "outputs": [
        {
          "name": "stdout",
          "output_type": "stream",
          "text": [
            "Mounted at /content/drive\n"
          ]
        }
      ]
    },
    {
      "cell_type": "code",
      "metadata": {
        "id": "g-_4ZgIWw5oC"
      },
      "source": [
        "# cd '/content/drive/MyDrive/speech'"
      ],
      "execution_count": null,
      "outputs": []
    },
    {
      "cell_type": "markdown",
      "metadata": {
        "id": "9yaF06F96cA_"
      },
      "source": [
        "Read in the unzipped text file and store in a dataframe."
      ]
    },
    {
      "cell_type": "code",
      "metadata": {
        "id": "37zrePB2pcBa"
      },
      "source": [
        "# log_txt=sc.textFile(\"/content/drive/MyDrive/speech/I80_davis.txt\")\n",
        "log_txt=sc.textFile(\"/content/drive/MyDrive/speech/d04_text_station_raw_2016_08_22.txt\")"
      ],
      "execution_count": null,
      "outputs": []
    },
    {
      "cell_type": "code",
      "metadata": {
        "colab": {
          "base_uri": "https://localhost:8080/"
        },
        "id": "xsefrekXqsTD",
        "outputId": "1e4fef1d-402f-43e7-b768-078cd3a06769"
      },
      "source": [
        "log_txt.take(1)"
      ],
      "execution_count": null,
      "outputs": [
        {
          "data": {
            "text/plain": [
              "['08/22/2016 00:00:06,400001,1,.0061,86,0,0,0,2,.0117,86,0,0,0,1,.0067,71,,,,,,,,,']"
            ]
          },
          "execution_count": 15,
          "metadata": {},
          "output_type": "execute_result"
        }
      ]
    },
    {
      "cell_type": "code",
      "metadata": {
        "id": "D-vK5V6-vado"
      },
      "source": [
        "# header = log_txt.first()"
      ],
      "execution_count": null,
      "outputs": []
    },
    {
      "cell_type": "code",
      "metadata": {
        "id": "f-_jxpp7u2ic"
      },
      "source": [
        "temp_var = log_txt.map(lambda k: k.split(\",\"))\n"
      ],
      "execution_count": null,
      "outputs": []
    },
    {
      "cell_type": "code",
      "metadata": {
        "id": "7KCtLvcWvf0j"
      },
      "source": [
        "# log_txt = log_txt.filter(lambda line: line != header)\n"
      ],
      "execution_count": null,
      "outputs": []
    },
    {
      "cell_type": "code",
      "metadata": {
        "colab": {
          "base_uri": "https://localhost:8080/"
        },
        "id": "6c49lDOCvFlV",
        "outputId": "038b489a-a5e7-4a83-fd95-1b11cd1e8caf"
      },
      "source": [
        "log_df=temp_var.toDF()\n",
        "log_df.show(2)"
      ],
      "execution_count": null,
      "outputs": [
        {
          "name": "stdout",
          "output_type": "stream",
          "text": [
            "+-------------------+------+---+-----+---+---+-----+---+---+-----+---+---+---+---+---+-----+---+---+---+---+---+---+---+---+---+---+\n",
            "|                 _1|    _2| _3|   _4| _5| _6|   _7| _8| _9|  _10|_11|_12|_13|_14|_15|  _16|_17|_18|_19|_20|_21|_22|_23|_24|_25|_26|\n",
            "+-------------------+------+---+-----+---+---+-----+---+---+-----+---+---+---+---+---+-----+---+---+---+---+---+---+---+---+---+---+\n",
            "|08/22/2016 00:00:06|400001|  1|.0061| 86|  0|    0|  0|  2|.0117| 86|  0|  0|  0|  1|.0067| 71|   |   |   |   |   |   |   |   |   |\n",
            "|08/22/2016 00:00:06|400010|  1|.0067| 78|  3|.0206| 71|  4|.0228| 78|  3|.02| 65|   |     |   |   |   |   |   |   |   |   |   |   |\n",
            "+-------------------+------+---+-----+---+---+-----+---+---+-----+---+---+---+---+---+-----+---+---+---+---+---+---+---+---+---+---+\n",
            "only showing top 2 rows\n",
            "\n"
          ]
        }
      ]
    },
    {
      "cell_type": "code",
      "metadata": {
        "id": "ImuQpSLRBwPJ"
      },
      "source": [
        "# log_df.printSchema()"
      ],
      "execution_count": null,
      "outputs": []
    },
    {
      "cell_type": "code",
      "metadata": {
        "id": "5a5jYs9zCOqL"
      },
      "source": [
        "newColumns = [\"utc_time_id\", \"source_id\", \"primary_link_source_flag\", \"avg_speed\",\n",
        "              \"avg_flow\", \"avg_occ\", \"avg_freeflow_speed\", \"avg_travel_time\",\n",
        "              \"high_quality_samples\", \"samples_below_100pct_ff\", \"samples_below_95pct_ff\",\n",
        "              \"samples_below_90pct_ff\", \"samples_below_85pct_ff\", \"samples_below_80pct_ff\",\n",
        "              \"samples_below_75pct_ff\", \"samples_below_70pct_ff\", \"samples_below_65pct_ff\",\n",
        "              \"samples_below_60pct_ff\", \"samples_below_55pct_ff\", \"samples_below_50pct_ff\",\n",
        "              \"samples_below_45pct_ff\", \"samples_below_40pct_ff\", \"samples_below_35pct_ff\",\n",
        "              \"samples_below_30pct_ff\", \"samples_below_25pct_ff\", \"samples_below_20pct_ff\"]"
      ],
      "execution_count": null,
      "outputs": []
    },
    {
      "cell_type": "code",
      "metadata": {
        "id": "Kjs2JRuOCV3k"
      },
      "source": [
        "log_df = log_df.toDF(*newColumns)"
      ],
      "execution_count": null,
      "outputs": []
    },
    {
      "cell_type": "code",
      "metadata": {
        "colab": {
          "base_uri": "https://localhost:8080/"
        },
        "id": "j5JU5NLdCajY",
        "outputId": "cd317199-f0ed-4d30-9452-9c6ffb23847b"
      },
      "source": [
        "log_df.show(2)"
      ],
      "execution_count": null,
      "outputs": [
        {
          "name": "stdout",
          "output_type": "stream",
          "text": [
            "+-------------------+---------+------------------------+---------+--------+-------+------------------+---------------+--------------------+-----------------------+----------------------+----------------------+----------------------+----------------------+----------------------+----------------------+----------------------+----------------------+----------------------+----------------------+----------------------+----------------------+----------------------+----------------------+----------------------+----------------------+\n",
            "|        utc_time_id|source_id|primary_link_source_flag|avg_speed|avg_flow|avg_occ|avg_freeflow_speed|avg_travel_time|high_quality_samples|samples_below_100pct_ff|samples_below_95pct_ff|samples_below_90pct_ff|samples_below_85pct_ff|samples_below_80pct_ff|samples_below_75pct_ff|samples_below_70pct_ff|samples_below_65pct_ff|samples_below_60pct_ff|samples_below_55pct_ff|samples_below_50pct_ff|samples_below_45pct_ff|samples_below_40pct_ff|samples_below_35pct_ff|samples_below_30pct_ff|samples_below_25pct_ff|samples_below_20pct_ff|\n",
            "+-------------------+---------+------------------------+---------+--------+-------+------------------+---------------+--------------------+-----------------------+----------------------+----------------------+----------------------+----------------------+----------------------+----------------------+----------------------+----------------------+----------------------+----------------------+----------------------+----------------------+----------------------+----------------------+----------------------+----------------------+\n",
            "|08/22/2016 00:00:06|   400001|                       1|    .0061|      86|      0|                 0|              0|                   2|                  .0117|                    86|                     0|                     0|                     0|                     1|                 .0067|                    71|                      |                      |                      |                      |                      |                      |                      |                      |                      |\n",
            "|08/22/2016 00:00:06|   400010|                       1|    .0067|      78|      3|             .0206|             71|                   4|                  .0228|                    78|                     3|                   .02|                    65|                      |                      |                      |                      |                      |                      |                      |                      |                      |                      |                      |                      |\n",
            "+-------------------+---------+------------------------+---------+--------+-------+------------------+---------------+--------------------+-----------------------+----------------------+----------------------+----------------------+----------------------+----------------------+----------------------+----------------------+----------------------+----------------------+----------------------+----------------------+----------------------+----------------------+----------------------+----------------------+----------------------+\n",
            "only showing top 2 rows\n",
            "\n"
          ]
        }
      ]
    },
    {
      "cell_type": "markdown",
      "metadata": {
        "id": "3U-WVW8y6vJ3"
      },
      "source": [
        "Transform utc_time_id into a format that can be loaded into mysql datetime type column."
      ]
    },
    {
      "cell_type": "code",
      "metadata": {
        "colab": {
          "base_uri": "https://localhost:8080/"
        },
        "id": "TBeB12KHAUb0",
        "outputId": "d2e6630b-2162-4621-ecd7-ed7fa2e2a063"
      },
      "source": [
        "from pyspark.sql.functions import col, udf, to_timestamp\n",
        "\n",
        "log_df = log_df.withColumn('test', to_timestamp('utc_time_id','MM/dd/yyyy HH:mm:ss'))\n",
        "log_df.show(2)\n",
        "    "
      ],
      "execution_count": null,
      "outputs": [
        {
          "name": "stdout",
          "output_type": "stream",
          "text": [
            "+-------------------+---------+------------------------+---------+--------+-------+------------------+---------------+--------------------+-----------------------+----------------------+----------------------+----------------------+----------------------+----------------------+----------------------+----------------------+----------------------+----------------------+----------------------+----------------------+----------------------+----------------------+----------------------+----------------------+----------------------+-------------------+\n",
            "|        utc_time_id|source_id|primary_link_source_flag|avg_speed|avg_flow|avg_occ|avg_freeflow_speed|avg_travel_time|high_quality_samples|samples_below_100pct_ff|samples_below_95pct_ff|samples_below_90pct_ff|samples_below_85pct_ff|samples_below_80pct_ff|samples_below_75pct_ff|samples_below_70pct_ff|samples_below_65pct_ff|samples_below_60pct_ff|samples_below_55pct_ff|samples_below_50pct_ff|samples_below_45pct_ff|samples_below_40pct_ff|samples_below_35pct_ff|samples_below_30pct_ff|samples_below_25pct_ff|samples_below_20pct_ff|               test|\n",
            "+-------------------+---------+------------------------+---------+--------+-------+------------------+---------------+--------------------+-----------------------+----------------------+----------------------+----------------------+----------------------+----------------------+----------------------+----------------------+----------------------+----------------------+----------------------+----------------------+----------------------+----------------------+----------------------+----------------------+----------------------+-------------------+\n",
            "|08/22/2016 00:00:06|   400001|                       1|    .0061|      86|      0|                 0|              0|                   2|                  .0117|                    86|                     0|                     0|                     0|                     1|                 .0067|                    71|                      |                      |                      |                      |                      |                      |                      |                      |                      |2016-08-22 00:00:06|\n",
            "|08/22/2016 00:00:06|   400010|                       1|    .0067|      78|      3|             .0206|             71|                   4|                  .0228|                    78|                     3|                   .02|                    65|                      |                      |                      |                      |                      |                      |                      |                      |                      |                      |                      |                      |2016-08-22 00:00:06|\n",
            "+-------------------+---------+------------------------+---------+--------+-------+------------------+---------------+--------------------+-----------------------+----------------------+----------------------+----------------------+----------------------+----------------------+----------------------+----------------------+----------------------+----------------------+----------------------+----------------------+----------------------+----------------------+----------------------+----------------------+----------------------+-------------------+\n",
            "only showing top 2 rows\n",
            "\n"
          ]
        }
      ]
    },
    {
      "cell_type": "code",
      "metadata": {
        "colab": {
          "base_uri": "https://localhost:8080/"
        },
        "id": "-uZeb1i2CHOf",
        "outputId": "6da5fd79-0bd0-4380-8741-315af742de07"
      },
      "source": [
        "log_df = log_df.drop(log_df.utc_time_id)\n",
        "log_df.show(2)"
      ],
      "execution_count": null,
      "outputs": [
        {
          "name": "stdout",
          "output_type": "stream",
          "text": [
            "+---------+------------------------+---------+--------+-------+------------------+---------------+--------------------+-----------------------+----------------------+----------------------+----------------------+----------------------+----------------------+----------------------+----------------------+----------------------+----------------------+----------------------+----------------------+----------------------+----------------------+----------------------+----------------------+----------------------+-------------------+\n",
            "|source_id|primary_link_source_flag|avg_speed|avg_flow|avg_occ|avg_freeflow_speed|avg_travel_time|high_quality_samples|samples_below_100pct_ff|samples_below_95pct_ff|samples_below_90pct_ff|samples_below_85pct_ff|samples_below_80pct_ff|samples_below_75pct_ff|samples_below_70pct_ff|samples_below_65pct_ff|samples_below_60pct_ff|samples_below_55pct_ff|samples_below_50pct_ff|samples_below_45pct_ff|samples_below_40pct_ff|samples_below_35pct_ff|samples_below_30pct_ff|samples_below_25pct_ff|samples_below_20pct_ff|               test|\n",
            "+---------+------------------------+---------+--------+-------+------------------+---------------+--------------------+-----------------------+----------------------+----------------------+----------------------+----------------------+----------------------+----------------------+----------------------+----------------------+----------------------+----------------------+----------------------+----------------------+----------------------+----------------------+----------------------+----------------------+-------------------+\n",
            "|   400001|                       1|    .0061|      86|      0|                 0|              0|                   2|                  .0117|                    86|                     0|                     0|                     0|                     1|                 .0067|                    71|                      |                      |                      |                      |                      |                      |                      |                      |                      |2016-08-22 00:00:06|\n",
            "|   400010|                       1|    .0067|      78|      3|             .0206|             71|                   4|                  .0228|                    78|                     3|                   .02|                    65|                      |                      |                      |                      |                      |                      |                      |                      |                      |                      |                      |                      |2016-08-22 00:00:06|\n",
            "+---------+------------------------+---------+--------+-------+------------------+---------------+--------------------+-----------------------+----------------------+----------------------+----------------------+----------------------+----------------------+----------------------+----------------------+----------------------+----------------------+----------------------+----------------------+----------------------+----------------------+----------------------+----------------------+----------------------+-------------------+\n",
            "only showing top 2 rows\n",
            "\n"
          ]
        }
      ]
    },
    {
      "cell_type": "code",
      "metadata": {
        "colab": {
          "base_uri": "https://localhost:8080/"
        },
        "id": "mQWOqgtpCjrQ",
        "outputId": "d1df33e4-e6a1-4087-8861-87cab03e400c"
      },
      "source": [
        "log_df = log_df.withColumnRenamed(\"test\", \"utc_time_id\")\n",
        "log_df.show(20)"
      ],
      "execution_count": null,
      "outputs": [
        {
          "name": "stdout",
          "output_type": "stream",
          "text": [
            "+---------+------------------------+---------+--------+-------+------------------+---------------+--------------------+-----------------------+----------------------+----------------------+----------------------+----------------------+----------------------+----------------------+----------------------+----------------------+----------------------+----------------------+----------------------+----------------------+----------------------+----------------------+----------------------+----------------------+-------------------+\n",
            "|source_id|primary_link_source_flag|avg_speed|avg_flow|avg_occ|avg_freeflow_speed|avg_travel_time|high_quality_samples|samples_below_100pct_ff|samples_below_95pct_ff|samples_below_90pct_ff|samples_below_85pct_ff|samples_below_80pct_ff|samples_below_75pct_ff|samples_below_70pct_ff|samples_below_65pct_ff|samples_below_60pct_ff|samples_below_55pct_ff|samples_below_50pct_ff|samples_below_45pct_ff|samples_below_40pct_ff|samples_below_35pct_ff|samples_below_30pct_ff|samples_below_25pct_ff|samples_below_20pct_ff|        utc_time_id|\n",
            "+---------+------------------------+---------+--------+-------+------------------+---------------+--------------------+-----------------------+----------------------+----------------------+----------------------+----------------------+----------------------+----------------------+----------------------+----------------------+----------------------+----------------------+----------------------+----------------------+----------------------+----------------------+----------------------+----------------------+-------------------+\n",
            "|   400001|                       1|    .0061|      86|      0|                 0|              0|                   2|                  .0117|                    86|                     0|                     0|                     0|                     1|                 .0067|                    71|                      |                      |                      |                      |                      |                      |                      |                      |                      |2016-08-22 00:00:06|\n",
            "|   400010|                       1|    .0067|      78|      3|             .0206|             71|                   4|                  .0228|                    78|                     3|                   .02|                    65|                      |                      |                      |                      |                      |                      |                      |                      |                      |                      |                      |                      |2016-08-22 00:00:06|\n",
            "|   400014|                       2|    .9206|       2|      0|                 0|              0|                   0|                      0|                     0|                     0|                     0|                     0|                     0|                     0|                     0|                      |                      |                      |                      |                      |                      |                      |                      |                      |2016-08-22 00:00:06|\n",
            "|   400017|                       0|        1|       0|      1|             .0061|             89|                   0|                      1|                     0|                     1|                 .0039|                    78|                      |                      |                      |                      |                      |                      |                      |                      |                      |                      |                      |                      |2016-08-22 00:00:06|\n",
            "|   400028|                       0|        0|       0|      4|             .0294|             71|                   1|                  .0072|                    65|                     0|                     0|                     0|                      |                      |                      |                      |                      |                      |                      |                      |                      |                      |                      |                      |2016-08-22 00:00:06|\n",
            "|   400030|                       0|        0|       0|      0|                 0|              0|                   0|                      0|                     0|                      |                      |                      |                      |                      |                      |                      |                      |                      |                      |                      |                      |                      |                      |                      |2016-08-22 00:00:06|\n",
            "|   400040|                       1|    .0044|     149|      2|             .0128|             60|                   2|                  .0172|                    65|                      |                      |                      |                      |                      |                      |                      |                      |                      |                      |                      |                      |                      |                      |                      |2016-08-22 00:00:06|\n",
            "|   400045|                       0|        0|       0|      0|                 0|              0|                   0|                      0|                     0|                     0|                     0|                     0|                      |                      |                      |                      |                      |                      |                      |                      |                      |                      |                      |                      |2016-08-22 00:00:06|\n",
            "|   400052|                       0|        0|       0|      1|             .0089|             61|                   1|                  .0111|                    65|                      |                      |                      |                      |                      |                      |                      |                      |                      |                      |                      |                      |                      |                      |                      |2016-08-22 00:00:06|\n",
            "|   400057|                       0|        0|       0|      2|             .0111|             71|                   7|                  .0461|                    78|                      |                      |                      |                      |                      |                      |                      |                      |                      |                      |                      |                      |                      |                      |                      |2016-08-22 00:00:06|\n",
            "|   400059|                       1|     .005|      86|      2|             .0111|             78|                   1|                   .005|                    86|                      |                      |                      |                      |                      |                      |                      |                      |                      |                      |                      |                      |                      |                      |                      |2016-08-22 00:00:06|\n",
            "|   400065|                       0|        0|       0|      0|                 0|              0|                    |                       |                      |                      |                      |                      |                      |                      |                      |                      |                      |                      |                      |                      |                      |                      |                      |                      |2016-08-22 00:00:06|\n",
            "|   400067|                       2|    .0117|      86|      4|             .0228|             78|                   4|                  .0461|                    71|                     4|                 .0222|                    78|                      |                      |                      |                      |                      |                      |                      |                      |                      |                      |                      |                      |2016-08-22 00:00:06|\n",
            "|   400069|                       0|        0|       0|      0|                 0|              0|                   0|                      0|                     0|                     0|                     0|                     0|                      |                      |                      |                      |                      |                      |                      |                      |                      |                      |                      |                      |2016-08-22 00:00:06|\n",
            "|   400073|                       0|        0|       0|      0|                 0|              0|                    |                       |                      |                      |                      |                      |                      |                      |                      |                      |                      |                      |                      |                      |                      |                      |                      |                      |2016-08-22 00:00:06|\n",
            "|   400074|                       0|        0|       0|      0|                 0|              0|                   0|                      0|                     0|                      |                      |                      |                      |                      |                      |                      |                      |                      |                      |                      |                      |                      |                      |                      |2016-08-22 00:00:06|\n",
            "|   400084|                       0|        0|       0|      2|             .0122|             71|                   2|                  .0156|                    56|                     3|                 .0178|                    78|                      |                      |                      |                      |                      |                      |                      |                      |                      |                      |                      |                      |2016-08-22 00:00:06|\n",
            "|   400085|                       0|        0|       0|      0|                 0|              0|                   0|                      0|                     0|                      |                      |                      |                      |                      |                      |                      |                      |                      |                      |                      |                      |                      |                      |                      |2016-08-22 00:00:06|\n",
            "|   400088|                       1|    .0061|      86|      5|             .0317|             78|                   0|                      0|                     0|                     3|                 .0128|                    78|                      |                      |                      |                      |                      |                      |                      |                      |                      |                      |                      |                      |2016-08-22 00:00:06|\n",
            "|   400096|                       0|        0|       0|      1|              .005|            109|                   2|                    .01|                   109|                      |                      |                      |                      |                      |                      |                      |                      |                      |                      |                      |                      |                      |                      |                      |2016-08-22 00:00:06|\n",
            "+---------+------------------------+---------+--------+-------+------------------+---------------+--------------------+-----------------------+----------------------+----------------------+----------------------+----------------------+----------------------+----------------------+----------------------+----------------------+----------------------+----------------------+----------------------+----------------------+----------------------+----------------------+----------------------+----------------------+-------------------+\n",
            "only showing top 20 rows\n",
            "\n"
          ]
        }
      ]
    },
    {
      "cell_type": "code",
      "metadata": {
        "colab": {
          "base_uri": "https://localhost:8080/"
        },
        "id": "vWGWNCbjDN5y",
        "outputId": "3ff43f7e-0f43-4df9-f29a-022131603432"
      },
      "source": [
        "log_df = log_df.select(\"utc_time_id\", \"source_id\", \"primary_link_source_flag\", \"avg_speed\",\n",
        "              \"avg_flow\", \"avg_occ\", \"avg_freeflow_speed\", \"avg_travel_time\",\n",
        "              \"high_quality_samples\", \"samples_below_100pct_ff\", \"samples_below_95pct_ff\",\n",
        "              \"samples_below_90pct_ff\", \"samples_below_85pct_ff\", \"samples_below_80pct_ff\",\n",
        "              \"samples_below_75pct_ff\", \"samples_below_70pct_ff\", \"samples_below_65pct_ff\",\n",
        "              \"samples_below_60pct_ff\", \"samples_below_55pct_ff\", \"samples_below_50pct_ff\",\n",
        "              \"samples_below_45pct_ff\", \"samples_below_40pct_ff\", \"samples_below_35pct_ff\",\n",
        "              \"samples_below_30pct_ff\", \"samples_below_25pct_ff\", \"samples_below_20pct_ff\")\n",
        "log_df.show(2)"
      ],
      "execution_count": null,
      "outputs": [
        {
          "name": "stdout",
          "output_type": "stream",
          "text": [
            "+-------------------+---------+------------------------+---------+--------+-------+------------------+---------------+--------------------+-----------------------+----------------------+----------------------+----------------------+----------------------+----------------------+----------------------+----------------------+----------------------+----------------------+----------------------+----------------------+----------------------+----------------------+----------------------+----------------------+----------------------+\n",
            "|        utc_time_id|source_id|primary_link_source_flag|avg_speed|avg_flow|avg_occ|avg_freeflow_speed|avg_travel_time|high_quality_samples|samples_below_100pct_ff|samples_below_95pct_ff|samples_below_90pct_ff|samples_below_85pct_ff|samples_below_80pct_ff|samples_below_75pct_ff|samples_below_70pct_ff|samples_below_65pct_ff|samples_below_60pct_ff|samples_below_55pct_ff|samples_below_50pct_ff|samples_below_45pct_ff|samples_below_40pct_ff|samples_below_35pct_ff|samples_below_30pct_ff|samples_below_25pct_ff|samples_below_20pct_ff|\n",
            "+-------------------+---------+------------------------+---------+--------+-------+------------------+---------------+--------------------+-----------------------+----------------------+----------------------+----------------------+----------------------+----------------------+----------------------+----------------------+----------------------+----------------------+----------------------+----------------------+----------------------+----------------------+----------------------+----------------------+----------------------+\n",
            "|2016-08-22 00:00:06|   400001|                       1|    .0061|      86|      0|                 0|              0|                   2|                  .0117|                    86|                     0|                     0|                     0|                     1|                 .0067|                    71|                      |                      |                      |                      |                      |                      |                      |                      |                      |\n",
            "|2016-08-22 00:00:06|   400010|                       1|    .0067|      78|      3|             .0206|             71|                   4|                  .0228|                    78|                     3|                   .02|                    65|                      |                      |                      |                      |                      |                      |                      |                      |                      |                      |                      |                      |\n",
            "+-------------------+---------+------------------------+---------+--------+-------+------------------+---------------+--------------------+-----------------------+----------------------+----------------------+----------------------+----------------------+----------------------+----------------------+----------------------+----------------------+----------------------+----------------------+----------------------+----------------------+----------------------+----------------------+----------------------+----------------------+\n",
            "only showing top 2 rows\n",
            "\n"
          ]
        }
      ]
    },
    {
      "cell_type": "code",
      "metadata": {
        "id": "QNHULI0uUlnm"
      },
      "source": [
        "# log_df.printSchema()"
      ],
      "execution_count": null,
      "outputs": []
    },
    {
      "cell_type": "markdown",
      "metadata": {
        "id": "QAI7pKew67DM"
      },
      "source": [
        "Add 100000 rows first to test functionality."
      ]
    },
    {
      "cell_type": "code",
      "metadata": {
        "colab": {
          "base_uri": "https://localhost:8080/"
        },
        "id": "q67lPrMZf9n3",
        "outputId": "10980397-1e4d-4db5-ddb0-92843b8a0946"
      },
      "source": [
        "limited_df = log_df.limit(100000)\n",
        "limited_df.show(2)"
      ],
      "execution_count": null,
      "outputs": [
        {
          "name": "stdout",
          "output_type": "stream",
          "text": [
            "+-------------------+---------+------------------------+---------+--------+-------+------------------+---------------+--------------------+-----------------------+----------------------+----------------------+----------------------+----------------------+----------------------+----------------------+----------------------+----------------------+----------------------+----------------------+----------------------+----------------------+----------------------+----------------------+----------------------+----------------------+\n",
            "|        utc_time_id|source_id|primary_link_source_flag|avg_speed|avg_flow|avg_occ|avg_freeflow_speed|avg_travel_time|high_quality_samples|samples_below_100pct_ff|samples_below_95pct_ff|samples_below_90pct_ff|samples_below_85pct_ff|samples_below_80pct_ff|samples_below_75pct_ff|samples_below_70pct_ff|samples_below_65pct_ff|samples_below_60pct_ff|samples_below_55pct_ff|samples_below_50pct_ff|samples_below_45pct_ff|samples_below_40pct_ff|samples_below_35pct_ff|samples_below_30pct_ff|samples_below_25pct_ff|samples_below_20pct_ff|\n",
            "+-------------------+---------+------------------------+---------+--------+-------+------------------+---------------+--------------------+-----------------------+----------------------+----------------------+----------------------+----------------------+----------------------+----------------------+----------------------+----------------------+----------------------+----------------------+----------------------+----------------------+----------------------+----------------------+----------------------+----------------------+\n",
            "|2016-08-22 00:00:06|   400001|                       1|    .0061|      86|      0|                 0|              0|                   2|                  .0117|                    86|                     0|                     0|                     0|                     1|                 .0067|                    71|                      |                      |                      |                      |                      |                      |                      |                      |                      |\n",
            "|2016-08-22 00:00:06|   400010|                       1|    .0067|      78|      3|             .0206|             71|                   4|                  .0228|                    78|                     3|                   .02|                    65|                      |                      |                      |                      |                      |                      |                      |                      |                      |                      |                      |                      |\n",
            "+-------------------+---------+------------------------+---------+--------+-------+------------------+---------------+--------------------+-----------------------+----------------------+----------------------+----------------------+----------------------+----------------------+----------------------+----------------------+----------------------+----------------------+----------------------+----------------------+----------------------+----------------------+----------------------+----------------------+----------------------+\n",
            "only showing top 2 rows\n",
            "\n"
          ]
        }
      ]
    },
    {
      "cell_type": "markdown",
      "metadata": {
        "id": "cAzY8r5R7Cxs"
      },
      "source": [
        "Load the rest of the dataset"
      ]
    },
    {
      "cell_type": "code",
      "metadata": {
        "id": "jRACnyyNheac"
      },
      "source": [
        "log_df1 = log_df.subtract(limited_df)"
      ],
      "execution_count": null,
      "outputs": []
    },
    {
      "cell_type": "code",
      "metadata": {
        "colab": {
          "background_save": true
        },
        "id": "oxorlmbHHDwo"
      },
      "source": [
        "#use ngrok to expose the my-sql server \n",
        "log_df1.repartition(10).write.format('jdbc').options(\n",
        "      numPartitions = \"5\",\n",
        "      url='jdbc:mysql://8.tcp.ngrok.io:11051/sensor_db?useSSL=false&autoReconnect=true&useUnicode=true&characterEncoding=UTF-8&maxAllowedPacket=16777216&rewriteBatchedStatements=true',\n",
        "      batchsize=\"100000\",\n",
        "      driver='com.mysql.jdbc.Driver',\n",
        "      dbtable='sensordata',\n",
        "      user='',\n",
        "      password='').mode('append').save()"
      ],
      "execution_count": null,
      "outputs": []
    },
    {
      "cell_type": "markdown",
      "metadata": {
        "id": "nICIXF6S7N9_"
      },
      "source": [
        "##EXTRACTION\n"
      ]
    },
    {
      "cell_type": "code",
      "metadata": {
        "colab": {
          "background_save": true
        },
        "id": "mYUt8348wzIm"
      },
      "source": [
        "# !wget https://anson.ucdavis.edu/~clarkf/richards.csv.gz  --no-check-certificate | tar -xz"
      ],
      "execution_count": null,
      "outputs": []
    },
    {
      "cell_type": "code",
      "metadata": {
        "colab": {
          "background_save": true
        },
        "id": "Lj5N3GUlCODF"
      },
      "source": [
        "# !gzip -d /content/drive/MyDrive/speech/richards.csv.gz"
      ],
      "execution_count": null,
      "outputs": []
    },
    {
      "cell_type": "code",
      "metadata": {
        "colab": {
          "background_save": true
        },
        "id": "C8mvsJWbuwmY"
      },
      "source": [
        "# !tar -xf \"/content/drive/MyDrive/speech/d04_text_station_raw_2016_08_22.txt.gz\" -C \"/content/drive/MyDrive/speech/sensor/\""
      ],
      "execution_count": null,
      "outputs": []
    },
    {
      "cell_type": "code",
      "metadata": {
        "colab": {
          "background_save": true
        },
        "id": "b_nvuWExuwzW"
      },
      "source": [
        "# f = open(\"/content/drive/MyDrive/speech/d04_text_station_raw_2016_08_22.txt\", \"r\")\n",
        "# print(f.readlines(3))"
      ],
      "execution_count": null,
      "outputs": []
    },
    {
      "cell_type": "code",
      "metadata": {
        "colab": {
          "background_save": true
        },
        "id": "tBqT9iI3uw0i"
      },
      "source": [
        "# def read_lines(fname,n,mode='r+'):\n",
        "# \twith open(fname) as f:\n",
        "# \t\tfor i in range(n):\n",
        "# \t\t\tprint(f.readline())\n",
        "\n",
        "# read_lines('/content/drive/MyDrive/speech/d04_text_station_raw_2016_08_22.txt',5)"
      ],
      "execution_count": null,
      "outputs": []
    },
    {
      "cell_type": "code",
      "metadata": {
        "colab": {
          "background_save": true
        },
        "id": "rBHBJsMPuw1k"
      },
      "source": [
        ""
      ],
      "execution_count": null,
      "outputs": []
    },
    {
      "cell_type": "code",
      "metadata": {
        "colab": {
          "background_save": true
        },
        "id": "8xMWW9Oauw23"
      },
      "source": [
        ""
      ],
      "execution_count": null,
      "outputs": []
    },
    {
      "cell_type": "code",
      "metadata": {
        "colab": {
          "background_save": true
        },
        "id": "U04LzPAUuw8G"
      },
      "source": [
        ""
      ],
      "execution_count": null,
      "outputs": []
    }
  ]
}